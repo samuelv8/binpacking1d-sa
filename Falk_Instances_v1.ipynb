{
 "cells": [
  {
   "cell_type": "markdown",
   "metadata": {},
   "source": [
    "# Bin Packing Problem"
   ]
  },
  {
   "cell_type": "markdown",
   "metadata": {},
   "source": [
    "### Data [Falkenauer, 1996]"
   ]
  },
  {
   "cell_type": "code",
   "execution_count": 3,
   "metadata": {},
   "outputs": [
    {
     "data": {
      "text/html": [
       "<div>\n",
       "<style scoped>\n",
       "    .dataframe tbody tr th:only-of-type {\n",
       "        vertical-align: middle;\n",
       "    }\n",
       "\n",
       "    .dataframe tbody tr th {\n",
       "        vertical-align: top;\n",
       "    }\n",
       "\n",
       "    .dataframe thead th {\n",
       "        text-align: right;\n",
       "    }\n",
       "</style>\n",
       "<table border=\"1\" class=\"dataframe\">\n",
       "  <thead>\n",
       "    <tr style=\"text-align: right;\">\n",
       "      <th></th>\n",
       "      <th>instance_name</th>\n",
       "      <th>c</th>\n",
       "      <th>w</th>\n",
       "      <th>n</th>\n",
       "      <th>wmin</th>\n",
       "      <th>wmax</th>\n",
       "      <th>lb</th>\n",
       "    </tr>\n",
       "  </thead>\n",
       "  <tbody>\n",
       "    <tr>\n",
       "      <th>0</th>\n",
       "      <td>Falkenauer_u1000_00</td>\n",
       "      <td>150</td>\n",
       "      <td>[100, 100, 100, 100, 100, 100, 100, 100, 100, ...</td>\n",
       "      <td>1000</td>\n",
       "      <td>20</td>\n",
       "      <td>100</td>\n",
       "      <td>399</td>\n",
       "    </tr>\n",
       "    <tr>\n",
       "      <th>1</th>\n",
       "      <td>Falkenauer_u1000_04</td>\n",
       "      <td>150</td>\n",
       "      <td>[100, 100, 100, 100, 100, 100, 100, 100, 100, ...</td>\n",
       "      <td>1000</td>\n",
       "      <td>20</td>\n",
       "      <td>100</td>\n",
       "      <td>397</td>\n",
       "    </tr>\n",
       "    <tr>\n",
       "      <th>2</th>\n",
       "      <td>Falkenauer_u120_00</td>\n",
       "      <td>150</td>\n",
       "      <td>[98, 98, 98, 96, 96, 94, 93, 93, 92, 91, 91, 9...</td>\n",
       "      <td>120</td>\n",
       "      <td>20</td>\n",
       "      <td>98</td>\n",
       "      <td>48</td>\n",
       "    </tr>\n",
       "    <tr>\n",
       "      <th>3</th>\n",
       "      <td>Falkenauer_u120_04</td>\n",
       "      <td>150</td>\n",
       "      <td>[99, 99, 98, 98, 97, 97, 96, 95, 92, 92, 92, 9...</td>\n",
       "      <td>120</td>\n",
       "      <td>20</td>\n",
       "      <td>99</td>\n",
       "      <td>50</td>\n",
       "    </tr>\n",
       "    <tr>\n",
       "      <th>4</th>\n",
       "      <td>Falkenauer_u250_00</td>\n",
       "      <td>150</td>\n",
       "      <td>[100, 100, 100, 99, 99, 98, 98, 98, 98, 98, 98...</td>\n",
       "      <td>250</td>\n",
       "      <td>20</td>\n",
       "      <td>100</td>\n",
       "      <td>99</td>\n",
       "    </tr>\n",
       "    <tr>\n",
       "      <th>5</th>\n",
       "      <td>Falkenauer_u250_04</td>\n",
       "      <td>150</td>\n",
       "      <td>[100, 100, 99, 98, 98, 98, 97, 97, 97, 96, 95,...</td>\n",
       "      <td>250</td>\n",
       "      <td>20</td>\n",
       "      <td>100</td>\n",
       "      <td>101</td>\n",
       "    </tr>\n",
       "    <tr>\n",
       "      <th>6</th>\n",
       "      <td>Falkenauer_u500_00</td>\n",
       "      <td>150</td>\n",
       "      <td>[100, 100, 100, 100, 100, 100, 99, 99, 99, 98,...</td>\n",
       "      <td>500</td>\n",
       "      <td>20</td>\n",
       "      <td>100</td>\n",
       "      <td>198</td>\n",
       "    </tr>\n",
       "    <tr>\n",
       "      <th>7</th>\n",
       "      <td>Falkenauer_u500_04</td>\n",
       "      <td>150</td>\n",
       "      <td>[100, 100, 100, 100, 100, 100, 100, 100, 100, ...</td>\n",
       "      <td>500</td>\n",
       "      <td>21</td>\n",
       "      <td>100</td>\n",
       "      <td>206</td>\n",
       "    </tr>\n",
       "  </tbody>\n",
       "</table>\n",
       "</div>"
      ],
      "text/plain": [
       "         instance_name    c  \\\n",
       "0  Falkenauer_u1000_00  150   \n",
       "1  Falkenauer_u1000_04  150   \n",
       "2   Falkenauer_u120_00  150   \n",
       "3   Falkenauer_u120_04  150   \n",
       "4   Falkenauer_u250_00  150   \n",
       "5   Falkenauer_u250_04  150   \n",
       "6   Falkenauer_u500_00  150   \n",
       "7   Falkenauer_u500_04  150   \n",
       "\n",
       "                                                   w     n  wmin  wmax   lb  \n",
       "0  [100, 100, 100, 100, 100, 100, 100, 100, 100, ...  1000    20   100  399  \n",
       "1  [100, 100, 100, 100, 100, 100, 100, 100, 100, ...  1000    20   100  397  \n",
       "2  [98, 98, 98, 96, 96, 94, 93, 93, 92, 91, 91, 9...   120    20    98   48  \n",
       "3  [99, 99, 98, 98, 97, 97, 96, 95, 92, 92, 92, 9...   120    20    99   50  \n",
       "4  [100, 100, 100, 99, 99, 98, 98, 98, 98, 98, 98...   250    20   100   99  \n",
       "5  [100, 100, 99, 98, 98, 98, 97, 97, 97, 96, 95,...   250    20   100  101  \n",
       "6  [100, 100, 100, 100, 100, 100, 99, 99, 99, 98,...   500    20   100  198  \n",
       "7  [100, 100, 100, 100, 100, 100, 100, 100, 100, ...   500    21   100  206  "
      ]
     },
     "metadata": {},
     "output_type": "display_data"
    }
   ],
   "source": [
    "import os\n",
    "import pandas as pd\n",
    "import numpy as np\n",
    "from gurobipy import *\n",
    "from random import *\n",
    "from time import time\n",
    "\n",
    "bpp_data_U = []\n",
    "addr = r'C:\\Users\\Samuel\\OneDrive\\ITA\\2020-2\\PO-201\\projeto\\Falkenauer\\Falkenauer U'\n",
    "\n",
    "for filename in os.listdir(addr):\n",
    "    if filename[:-5].endswith('0'):\n",
    "        dic = {'instance_name':'', 'c': 0, 'w':[]}\n",
    "        dic['instance_name'] = filename[:-4]\n",
    "        fileaddr = os.path.join(addr, filename)\n",
    "        with open(fileaddr, 'r') as file:\n",
    "            n = file.readline()\n",
    "            dic['c'] = int(file.readline())\n",
    "            dic['w'] = [int(number) for number in file.readlines()]\n",
    "        bpp_data_U.append(dic)     \n",
    "    \n",
    "def lb(c, w):\n",
    "    return int(math.ceil(sum(w) / c))\n",
    "\n",
    "df = pd.DataFrame(bpp_data_U, columns=['instance_name', 'c', 'w'])\n",
    "df['n'] = df['w'].apply(len)\n",
    "df['wmin'] = df['w'].apply(min)\n",
    "df['wmax'] = df['w'].apply(max)\n",
    "df['lb'] = df.apply(lambda x: lb(x['c'], x['w']), axis=1)\n",
    "display(df)\n"
   ]
  },
  {
   "cell_type": "code",
   "execution_count": 4,
   "metadata": {},
   "outputs": [
    {
     "data": {
      "text/html": [
       "<div>\n",
       "<style scoped>\n",
       "    .dataframe tbody tr th:only-of-type {\n",
       "        vertical-align: middle;\n",
       "    }\n",
       "\n",
       "    .dataframe tbody tr th {\n",
       "        vertical-align: top;\n",
       "    }\n",
       "\n",
       "    .dataframe thead th {\n",
       "        text-align: right;\n",
       "    }\n",
       "</style>\n",
       "<table border=\"1\" class=\"dataframe\">\n",
       "  <thead>\n",
       "    <tr style=\"text-align: right;\">\n",
       "      <th></th>\n",
       "      <th>instance_name</th>\n",
       "      <th>c</th>\n",
       "      <th>w</th>\n",
       "      <th>n</th>\n",
       "      <th>wmin</th>\n",
       "      <th>wmax</th>\n",
       "      <th>lb</th>\n",
       "    </tr>\n",
       "  </thead>\n",
       "  <tbody>\n",
       "    <tr>\n",
       "      <th>0</th>\n",
       "      <td>Falkenauer_t120_00</td>\n",
       "      <td>1000</td>\n",
       "      <td>[497, 497, 495, 485, 480, 478, 474, 473, 472, ...</td>\n",
       "      <td>120</td>\n",
       "      <td>250</td>\n",
       "      <td>497</td>\n",
       "      <td>40</td>\n",
       "    </tr>\n",
       "    <tr>\n",
       "      <th>1</th>\n",
       "      <td>Falkenauer_t120_04</td>\n",
       "      <td>1000</td>\n",
       "      <td>[499, 497, 491, 488, 484, 484, 483, 481, 480, ...</td>\n",
       "      <td>120</td>\n",
       "      <td>250</td>\n",
       "      <td>499</td>\n",
       "      <td>40</td>\n",
       "    </tr>\n",
       "    <tr>\n",
       "      <th>2</th>\n",
       "      <td>Falkenauer_t249_00</td>\n",
       "      <td>1000</td>\n",
       "      <td>[498, 497, 497, 497, 496, 495, 495, 492, 491, ...</td>\n",
       "      <td>249</td>\n",
       "      <td>250</td>\n",
       "      <td>498</td>\n",
       "      <td>83</td>\n",
       "    </tr>\n",
       "    <tr>\n",
       "      <th>3</th>\n",
       "      <td>Falkenauer_t249_04</td>\n",
       "      <td>1000</td>\n",
       "      <td>[499, 498, 498, 498, 498, 498, 496, 488, 486, ...</td>\n",
       "      <td>249</td>\n",
       "      <td>250</td>\n",
       "      <td>499</td>\n",
       "      <td>83</td>\n",
       "    </tr>\n",
       "    <tr>\n",
       "      <th>4</th>\n",
       "      <td>Falkenauer_t501_00</td>\n",
       "      <td>1000</td>\n",
       "      <td>[498, 498, 498, 497, 497, 497, 496, 496, 495, ...</td>\n",
       "      <td>501</td>\n",
       "      <td>250</td>\n",
       "      <td>498</td>\n",
       "      <td>167</td>\n",
       "    </tr>\n",
       "    <tr>\n",
       "      <th>5</th>\n",
       "      <td>Falkenauer_t501_04</td>\n",
       "      <td>1000</td>\n",
       "      <td>[499, 499, 498, 498, 495, 493, 493, 491, 490, ...</td>\n",
       "      <td>501</td>\n",
       "      <td>250</td>\n",
       "      <td>499</td>\n",
       "      <td>167</td>\n",
       "    </tr>\n",
       "    <tr>\n",
       "      <th>6</th>\n",
       "      <td>Falkenauer_t60_00</td>\n",
       "      <td>1000</td>\n",
       "      <td>[495, 474, 473, 472, 466, 450, 445, 444, 439, ...</td>\n",
       "      <td>60</td>\n",
       "      <td>251</td>\n",
       "      <td>495</td>\n",
       "      <td>20</td>\n",
       "    </tr>\n",
       "    <tr>\n",
       "      <th>7</th>\n",
       "      <td>Falkenauer_t60_04</td>\n",
       "      <td>1000</td>\n",
       "      <td>[498, 496, 494, 491, 478, 470, 455, 434, 428, ...</td>\n",
       "      <td>60</td>\n",
       "      <td>250</td>\n",
       "      <td>498</td>\n",
       "      <td>20</td>\n",
       "    </tr>\n",
       "  </tbody>\n",
       "</table>\n",
       "</div>"
      ],
      "text/plain": [
       "        instance_name     c  \\\n",
       "0  Falkenauer_t120_00  1000   \n",
       "1  Falkenauer_t120_04  1000   \n",
       "2  Falkenauer_t249_00  1000   \n",
       "3  Falkenauer_t249_04  1000   \n",
       "4  Falkenauer_t501_00  1000   \n",
       "5  Falkenauer_t501_04  1000   \n",
       "6   Falkenauer_t60_00  1000   \n",
       "7   Falkenauer_t60_04  1000   \n",
       "\n",
       "                                                   w    n  wmin  wmax   lb  \n",
       "0  [497, 497, 495, 485, 480, 478, 474, 473, 472, ...  120   250   497   40  \n",
       "1  [499, 497, 491, 488, 484, 484, 483, 481, 480, ...  120   250   499   40  \n",
       "2  [498, 497, 497, 497, 496, 495, 495, 492, 491, ...  249   250   498   83  \n",
       "3  [499, 498, 498, 498, 498, 498, 496, 488, 486, ...  249   250   499   83  \n",
       "4  [498, 498, 498, 497, 497, 497, 496, 496, 495, ...  501   250   498  167  \n",
       "5  [499, 499, 498, 498, 495, 493, 493, 491, 490, ...  501   250   499  167  \n",
       "6  [495, 474, 473, 472, 466, 450, 445, 444, 439, ...   60   251   495   20  \n",
       "7  [498, 496, 494, 491, 478, 470, 455, 434, 428, ...   60   250   498   20  "
      ]
     },
     "metadata": {},
     "output_type": "display_data"
    }
   ],
   "source": [
    "bpp_data_T = []\n",
    "addr = r'C:\\Users\\Samuel\\OneDrive\\ITA\\2020-2\\PO-201\\projeto\\Falkenauer\\Falkenauer_T'\n",
    "\n",
    "for filename in os.listdir(addr):\n",
    "    if filename[:-5].endswith('0'):\n",
    "        dic = {'instance_name':'', 'c': 0, 'w':[]}\n",
    "        dic['instance_name'] = filename[:-4]\n",
    "        fileaddr = os.path.join(addr, filename)\n",
    "        with open(fileaddr, 'r') as file:\n",
    "            n = file.readline()\n",
    "            dic['c'] = int(file.readline())\n",
    "            dic['w'] = [int(number) for number in file.readlines()]\n",
    "        bpp_data_T.append(dic)     \n",
    "\n",
    "df = pd.DataFrame(bpp_data_T, columns=['instance_name', 'c', 'w'])\n",
    "df['n'] = df['w'].apply(len)\n",
    "df['wmin'] = df['w'].apply(min)\n",
    "df['wmax'] = df['w'].apply(max)\n",
    "df['lb'] = df.apply(lambda x: lb(x['c'], x['w']), axis=1)\n",
    "display(df)"
   ]
  },
  {
   "cell_type": "markdown",
   "metadata": {},
   "source": [
    "## Solver Model"
   ]
  },
  {
   "cell_type": "code",
   "execution_count": 6,
   "metadata": {},
   "outputs": [],
   "source": [
    "def model_bpp(c, w, UB=None, bin_for_item=None, LogToConsole=False, TimeLimit=300):\n",
    "    n = len(w)\n",
    "    LB = lb(c, w)\n",
    "    if UB == None:\n",
    "        UB = n\n",
    "    if LogToConsole:\n",
    "        print('c =', c, '| n =', n, '| LB =', LB, '| UB =', UB)\n",
    "    model = Model()\n",
    "    model.params.LogToConsole = LogToConsole\n",
    "    model.params.TimeLimit = TimeLimit # seconds\n",
    "    x = model.addVars(n, UB, vtype=GRB.BINARY)\n",
    "    y = model.addVars(UB, vtype=GRB.BINARY)\n",
    "    model.setObjective(quicksum(y[j] for j in range(UB)), GRB.MINIMIZE) # minimize the number of bins used\n",
    "    model.addConstrs(quicksum(x[i,j] for j in range(UB)) == 1 for i in range(n)) # each item in exactly one bin\n",
    "    model.addConstrs(quicksum(w[i] * x[i,j] for i in range(n)) <= c * y[j] for j in range(UB))\n",
    "                                                                  # limit total weight in each bin; also, link $x_{ij}$ with $y_j$\n",
    "    if bin_for_item != None:\n",
    "        for i in range(n):\n",
    "            x[i, bin_for_item[i]].start = 1\n",
    "    model.optimize()\n",
    "    bin_for_item = [-1 for i in range(n)]\n",
    "    for i in range(n):\n",
    "        for j in range(UB):\n",
    "            if x[i,j].X > 0.5:\n",
    "                bin_for_item[i] = j\n",
    "    return model.ObjVal, model.ObjBound, bin_for_item"
   ]
  },
  {
   "cell_type": "markdown",
   "metadata": {},
   "source": [
    "## Heuristic: First-Fit-Decreasing"
   ]
  },
  {
   "cell_type": "code",
   "execution_count": 7,
   "metadata": {},
   "outputs": [],
   "source": [
    "def heur_FFD(c, w):\n",
    "    n = len(w)\n",
    "    order = sorted([i for i in range(n)], key=lambda i: w[i], reverse=True) # sort by decreasing weights\n",
    "    bin_for_item = [-1 for i in range(n)]\n",
    "    bin_space = []\n",
    "    for i in order:\n",
    "        for j in range(len(bin_space)): # pack in the first bin in which the item fits\n",
    "            if w[i] <= bin_space[j]:\n",
    "                bin_for_item[i] = j\n",
    "                bin_space[j] -= w[i]\n",
    "                break\n",
    "        if bin_for_item[i] < 0: # if no bin can accomodate the item, open a new bin\n",
    "            j = len(bin_space)\n",
    "            bin_for_item[i] = j\n",
    "            bin_space.append(c - w[i])\n",
    "    n_bins = len(bin_space)\n",
    "    return n_bins, bin_for_item, bin_space"
   ]
  },
  {
   "cell_type": "markdown",
   "metadata": {},
   "source": [
    "## Meta-Heuristic: Simulated Annealing"
   ]
  },
  {
   "cell_type": "markdown",
   "metadata": {},
   "source": [
    "### Neighborhood method"
   ]
  },
  {
   "cell_type": "code",
   "execution_count": 8,
   "metadata": {},
   "outputs": [],
   "source": [
    "def neighb(s, w, c):\n",
    "    n, item_0, space_0 = s\n",
    "    item = item_0.copy()\n",
    "    space = space_0.copy()\n",
    "    m = len(item)\n",
    "    while True:\n",
    "        # transfers item b to bin a\n",
    "        a = randint(0, n-1)\n",
    "        b = randint(0, m-1)\n",
    "        if space[a] >= w[b] and space[a] < c: \n",
    "            space[item[b]] += w[b]\n",
    "            space[a] -= w[b]\n",
    "            item[b] = a\n",
    "            break\n",
    "        # swap items a and b\n",
    "        a = randint(0, m-1) \n",
    "        if space[item[a]] + w[a] >= w[b] and space[item[b]] + w[b] >= w[a]:\n",
    "            space[item[a]] += w[a] - w[b]\n",
    "            space[item[b]] += w[b] - w[a]\n",
    "            item[a], item[b] = item[b], item[a]\n",
    "            break\n",
    "    return n, item, space"
   ]
  },
  {
   "cell_type": "markdown",
   "metadata": {},
   "source": [
    "### Objective function"
   ]
  },
  {
   "cell_type": "markdown",
   "metadata": {},
   "source": [
    "#### $f = \\sum_{i=1}^{n}\\left(\\sum_{k_i}w_j\\right)^2$, with $k_i$ the set of items in bin $i$"
   ]
  },
  {
   "cell_type": "code",
   "execution_count": 9,
   "metadata": {},
   "outputs": [],
   "source": [
    "def obj(s, w):\n",
    "    n, item, space = s\n",
    "    m = len(item)\n",
    "    total = 0\n",
    "    for i in range(n):\n",
    "        weight = 0\n",
    "        for j in range(m):\n",
    "            if item[j] == i:\n",
    "                weight += w[j]\n",
    "        total -= weight**2  # negative weights (minimization problem)\n",
    "    return total\n",
    "            "
   ]
  },
  {
   "cell_type": "markdown",
   "metadata": {},
   "source": [
    "### Simulated Annealing base algorithm"
   ]
  },
  {
   "cell_type": "code",
   "execution_count": 10,
   "metadata": {},
   "outputs": [],
   "source": [
    "def SA(alpha, SAmax, Ti, Tf, s, w, c):\n",
    "    best = s\n",
    "    i = 0\n",
    "    T = Ti\n",
    "    while T > Tf:\n",
    "        while i < SAmax:\n",
    "            i += 1\n",
    "            r = neighb(s, w, c)\n",
    "            delta = obj(r, w) - obj(s, w)\n",
    "            if delta <= 0: \n",
    "                s = r\n",
    "                if obj(r, w) < obj(best, w):\n",
    "                    best = r\n",
    "            else:\n",
    "                x = random()\n",
    "                y = np.exp(-delta/T)\n",
    "                if x < y:\n",
    "                    s = r\n",
    "        T = alpha*T\n",
    "        i = 0\n",
    "        \n",
    "    n, item, space = best\n",
    "    for i in range(n):  # number of bins update\n",
    "        if space[i] == c:\n",
    "            n -= 1\n",
    "    return n, item, space   "
   ]
  },
  {
   "cell_type": "markdown",
   "metadata": {},
   "source": [
    "### Modified algorithm to display solutions while running"
   ]
  },
  {
   "cell_type": "markdown",
   "metadata": {},
   "source": [
    "#### Auxiliary function"
   ]
  },
  {
   "cell_type": "code",
   "execution_count": 11,
   "metadata": {},
   "outputs": [],
   "source": [
    "def n_bins_updated(s0, s):\n",
    "    n0, item0, space0 = s0\n",
    "    n, item, space = s\n",
    "    for i in range(n0):\n",
    "        if space0[i] == c:\n",
    "            n0 -= 1\n",
    "        if space[i] == c:\n",
    "            n -= 1\n",
    "    if n<n0:\n",
    "        return True, n\n",
    "    return False, n"
   ]
  },
  {
   "cell_type": "code",
   "execution_count": 12,
   "metadata": {},
   "outputs": [],
   "source": [
    "def SA_log(alpha, SAmax, Ti, Tf, s, w, c, t_i):\n",
    "    best = s\n",
    "    i = 0\n",
    "    T = Ti\n",
    "    while T > Tf:\n",
    "        while i < SAmax:\n",
    "            i += 1\n",
    "            r = neighb(s, w, c)\n",
    "            delta = obj(r, w) - obj(s, w)\n",
    "            if delta <= 0: \n",
    "                s = r\n",
    "                if obj(r, w) < obj(best, w):\n",
    "                    chk, m = n_bins_updated(best, r)\n",
    "                    if chk:    \n",
    "                        t_f = time()\n",
    "                        t = round(t_f-t_i, 2)\n",
    "                        print(t, m)\n",
    "                    best = r\n",
    "            else:\n",
    "                x = random()\n",
    "                y = np.exp(-delta/T)\n",
    "                if x < y:\n",
    "                    s = r\n",
    "        T = alpha*T\n",
    "        i = 0\n",
    "    \n",
    "    n, item, space = best\n",
    "    for i in range(n):  # number of bins update\n",
    "        if space[i] == c:\n",
    "            n -= 1\n",
    "    return n, item, space  "
   ]
  },
  {
   "cell_type": "markdown",
   "metadata": {},
   "source": [
    "## Instances"
   ]
  },
  {
   "cell_type": "markdown",
   "metadata": {},
   "source": [
    "### FFD+Gurobi"
   ]
  },
  {
   "cell_type": "markdown",
   "metadata": {},
   "source": [
    "#### Class U"
   ]
  },
  {
   "cell_type": "code",
   "execution_count": 8,
   "metadata": {},
   "outputs": [
    {
     "name": "stdout",
     "output_type": "stream",
     "text": [
      "idx lb heur solv\n",
      "Using license file C:\\Users\\Samuel\\gurobi.lic\n",
      "Academic license - for non-commercial use only - expires 2021-01-20\n",
      "0 399 403 403.0\n",
      "1 397 402 402.0\n",
      "2 48 49 48.0\n",
      "3 50 50 50.0\n",
      "4 99 100 100.0\n",
      "5 101 102 102.0\n",
      "6 198 201 200.0\n",
      "7 206 209 208.0\n"
     ]
    }
   ],
   "source": [
    "print('idx', 'lb', 'heur', 'solv')\n",
    "for idx, bpp_data in enumerate(bpp_data_U):\n",
    "        c, w = bpp_data['c'], bpp_data['w']\n",
    "        s_0 = heur_FFD(c, w)\n",
    "        n_bins, n_bins_lb, bin_for_item = model_bpp(c, w, s_0[0], s_0[1], TimeLimit=300)\n",
    "        print(idx, lb(c,w), s_0[0], n_bins)"
   ]
  },
  {
   "cell_type": "markdown",
   "metadata": {},
   "source": [
    "#### Class T"
   ]
  },
  {
   "cell_type": "code",
   "execution_count": 9,
   "metadata": {},
   "outputs": [
    {
     "name": "stdout",
     "output_type": "stream",
     "text": [
      "idx lb heur solv\n",
      "0 40 45 41.0\n",
      "1 40 46 41.0\n",
      "2 83 94 85.0\n",
      "3 83 95 85.0\n",
      "4 167 190 170.0\n",
      "5 167 191 169.0\n",
      "6 20 23 20.0\n",
      "7 20 24 20.0\n"
     ]
    }
   ],
   "source": [
    "print('idx', 'lb', 'heur', 'solv')\n",
    "for idx, bpp_data in enumerate(bpp_data_T):\n",
    "        c, w = bpp_data['c'], bpp_data['w']\n",
    "        s_0 = heur_FFD(c, w)\n",
    "        n_bins, n_bins_lb, bin_for_item = model_bpp(c, w, s_0[0], s_0[1], TimeLimit=300)\n",
    "        print(idx, lb(c,w), s_0[0], n_bins)"
   ]
  },
  {
   "cell_type": "markdown",
   "metadata": {},
   "source": [
    "#### Track"
   ]
  },
  {
   "cell_type": "markdown",
   "metadata": {},
   "source": [
    "t249_04"
   ]
  },
  {
   "cell_type": "code",
   "execution_count": 6,
   "metadata": {},
   "outputs": [
    {
     "name": "stdout",
     "output_type": "stream",
     "text": [
      "c = 1000 | n = 249 | LB = 83 | UB = 95\n",
      "Using license file C:\\Users\\Samuel\\gurobi.lic\n",
      "Academic license - for non-commercial use only - expires 2021-01-20\n",
      "Parameter LogToConsole unchanged\n",
      "   Value: 1  Min: 0  Max: 1  Default: 1\n",
      "Changed value of parameter TimeLimit to 1000.0\n",
      "   Prev: inf  Min: 0.0  Max: inf  Default: inf\n",
      "Gurobi Optimizer version 9.1.0 build v9.1.0rc0 (win64)\n",
      "Thread count: 2 physical cores, 4 logical processors, using up to 4 threads\n",
      "Optimize a model with 344 rows, 23750 columns and 47405 nonzeros\n",
      "Model fingerprint: 0xd03fe74b\n",
      "Variable types: 0 continuous, 23750 integer (23750 binary)\n",
      "Coefficient statistics:\n",
      "  Matrix range     [1e+00, 1e+03]\n",
      "  Objective range  [1e+00, 1e+00]\n",
      "  Bounds range     [1e+00, 1e+00]\n",
      "  RHS range        [1e+00, 1e+00]\n",
      "\n",
      "Warning: Completing partial solution with 23501 unfixed non-continuous variables out of 23750\n",
      "User MIP start produced solution with objective 95 (0.09s)\n",
      "Loaded user MIP start with objective 95\n",
      "\n",
      "Presolve time: 0.14s\n",
      "Presolved: 344 rows, 23750 columns, 47405 nonzeros\n",
      "Variable types: 0 continuous, 23750 integer (23750 binary)\n",
      "\n",
      "Root relaxation: objective 8.300000e+01, 799 iterations, 0.08 seconds\n",
      "\n",
      "    Nodes    |    Current Node    |     Objective Bounds      |     Work\n",
      " Expl Unexpl |  Obj  Depth IntInf | Incumbent    BestBd   Gap | It/Node Time\n",
      "\n",
      "     0     0   83.00000    0  124   95.00000   83.00000  12.6%     -    0s\n",
      "H    0     0                      91.0000000   83.00000  8.79%     -    1s\n",
      "     0     0   83.00000    0  197   91.00000   83.00000  8.79%     -    1s\n",
      "H    0     0                      89.0000000   83.00000  6.74%     -    2s\n",
      "     0     0   83.00000    0  218   89.00000   83.00000  6.74%     -    2s\n",
      "     0     0   83.00000    0  133   89.00000   83.00000  6.74%     -    4s\n",
      "     0     0   83.00000    0  122   89.00000   83.00000  6.74%     -    4s\n",
      "H    0     0                      87.0000000   83.00000  4.60%     -    7s\n",
      "     0     2   83.00000    0  120   87.00000   83.00000  4.60%     -    8s\n",
      "    24    27   83.00000    9  153   87.00000   83.00000  4.60%   235   12s\n",
      "H   27    27                      86.0000000   83.00000  3.49%   210   12s\n",
      "   176   249   83.00000   67  139   86.00000   83.00000  3.49%  54.2   16s\n",
      "   418   382 infeasible  147        86.00000   83.00000  3.49%  42.1   20s\n",
      "   686   437   83.00000  233  130   86.00000   83.00000  3.49%  36.3   25s\n",
      "H  862   515                      85.0000000   83.00000  2.35%  32.0   29s\n",
      "   942   534 infeasible  288        85.00000   83.00000  2.35%  30.9   33s\n",
      "  1257   682 infeasible  370        85.00000   83.00000  2.35%  28.6   36s\n",
      "  1949   909   83.00000  561  135   85.00000   83.00000  2.35%  26.9   41s\n",
      "  2200   910   83.00000  630  140   85.00000   83.00000  2.35%  26.1   50s\n",
      "  2371  1050   83.00000  652  136   85.00000   83.00000  2.35%  26.0   55s\n",
      "  2924  1155   83.00000  836  136   85.00000   83.00000  2.35%  26.3   61s\n",
      "  3304  1296   83.00000  968  137   85.00000   83.00000  2.35%  25.4   65s\n",
      "  3627  1299   83.00000  658  120   85.00000   83.00000  2.35%  25.9   74s\n",
      "  3628  1300   83.00000 1032  186   85.00000   83.00000  2.35%  25.8   75s\n",
      "  3630  1301   83.00000  945  197   85.00000   83.00000  2.35%  25.8   80s\n",
      "  3633  1303   83.00000  307  117   85.00000   83.00000  2.35%  25.8   85s\n",
      "  3637  1306   83.00000  846  121   85.00000   83.00000  2.35%  25.8   92s\n",
      "  3639  1307   83.00000  283  115   85.00000   83.00000  2.35%  25.8   95s\n",
      "  3642  1308   83.00000   17  113   85.00000   83.00000  2.35%  41.5  101s\n",
      "  3646  1307   83.00000   19  119   85.00000   83.00000  2.35%  41.7  105s\n",
      "  3656  1305   83.00000   24  122   85.00000   83.00000  2.35%  42.4  111s\n",
      "  3662  1309   83.31900   27  121   85.00000   83.00000  2.35%  42.4  115s\n",
      "  3666  1312   83.31900   29  119   85.00000   83.00000  2.35%  42.4  132s\n",
      "  3670  1313   83.31900   31  119   85.00000   83.00000  2.35%  42.4  137s\n",
      "  3674  1315   83.31900   33  120   85.00000   83.00000  2.35%  42.4  140s\n",
      "  3682  1323   83.31900   37  120   85.00000   83.00000  2.35%  42.3  150s\n",
      "  3688  1329   83.31900   40  120   85.00000   83.00000  2.35%  42.3  156s\n",
      "  3696  1332   83.31900   44  122   85.00000   83.00000  2.35%  42.2  172s\n",
      "  3702  1345   83.31900   47  122   85.00000   83.00000  2.35%  42.1  186s\n",
      "  3719  1359   83.31900   56  122   85.00000   83.00000  2.35%  42.2  205s\n",
      "  3743  1379   83.31900   68  121   85.00000   83.00000  2.35%  42.4  231s\n",
      "  3777  1391   83.50500   86  120   85.00000   83.00000  2.35%  42.8  272s\n",
      "  3810  1398   84.00000  108  111   85.00000   83.00000  2.35%  43.2  339s\n",
      "  3862  1386   84.00000  134  116   85.00000   83.00000  2.35%  44.0  384s\n",
      "  3903  1385   84.00000  143  117   85.00000   83.00000  2.35%  44.5  430s\n",
      "  3944  1388   84.00000  155  109   85.00000   83.00000  2.35%  45.8  493s\n",
      "  3983  1401   84.00000  172  113   85.00000   83.00000  2.35%  46.6  545s\n",
      "  4026  1407 infeasible  186        85.00000   83.00000  2.35%  47.4  671s\n",
      "  4070  1409 infeasible  210        85.00000   83.00000  2.35%  48.6  734s\n",
      "  4186  1399 infeasible  257        85.00000   83.00000  2.35%  51.4  791s\n",
      "  4298  1388   84.00000  303   97   85.00000   83.00000  2.35%  52.2  836s\n",
      "  4430  1360   84.00000  352   96   85.00000   83.00000  2.35%  53.2  880s\n",
      "  4573  1346 infeasible  402        85.00000   83.00000  2.35%  53.9  924s\n",
      "  4712  1337 infeasible  455        85.00000   83.00000  2.35%  54.1  977s\n",
      "  4878  1296   84.00000  519   92   85.00000   83.00000  2.35%  54.4 1000s\n",
      "\n",
      "Cutting planes:\n",
      "  Gomory: 2\n",
      "  Cover: 33\n",
      "  MIR: 5\n",
      "  StrongCG: 7\n",
      "  Flow cover: 12\n",
      "  Zero half: 1\n",
      "  RLT: 5\n",
      "\n",
      "Explored 4962 nodes (290262 simplex iterations) in 1000.07 seconds\n",
      "Thread count was 4 (of 4 available processors)\n",
      "\n",
      "Solution count 6: 85 86 87 ... 95\n",
      "\n",
      "Time limit reached\n",
      "Best objective 8.500000000000e+01, best bound 8.300000000000e+01, gap 2.3529%\n"
     ]
    }
   ],
   "source": [
    "for idx, bpp_data in enumerate(bpp_data_T):\n",
    "    if idx == 3:\n",
    "        c, w = bpp_data['c'], bpp_data['w']\n",
    "        s_0 = heur_FFD(c, w)\n",
    "        n_bins, n_bins_lb, bin_for_item = model_bpp(c, w, s_0[0], s_0[1], LogToConsole=True, TimeLimit=1000)"
   ]
  },
  {
   "cell_type": "markdown",
   "metadata": {},
   "source": [
    "u_500_04"
   ]
  },
  {
   "cell_type": "code",
   "execution_count": 20,
   "metadata": {},
   "outputs": [
    {
     "name": "stdout",
     "output_type": "stream",
     "text": [
      "c = 150 | n = 500 | LB = 206 | UB = 209\n",
      "Using license file C:\\Users\\Samuel\\gurobi.lic\n",
      "Academic license - for non-commercial use only - expires 2021-01-20\n",
      "Parameter LogToConsole unchanged\n",
      "   Value: 1  Min: 0  Max: 1  Default: 1\n",
      "Changed value of parameter TimeLimit to 400.0\n",
      "   Prev: inf  Min: 0.0  Max: inf  Default: inf\n",
      "Gurobi Optimizer version 9.1.0 build v9.1.0rc0 (win64)\n",
      "Thread count: 2 physical cores, 4 logical processors, using up to 4 threads\n",
      "Optimize a model with 709 rows, 104709 columns and 209209 nonzeros\n",
      "Model fingerprint: 0x858a609e\n",
      "Variable types: 0 continuous, 104709 integer (104709 binary)\n",
      "Coefficient statistics:\n",
      "  Matrix range     [1e+00, 2e+02]\n",
      "  Objective range  [1e+00, 1e+00]\n",
      "  Bounds range     [1e+00, 1e+00]\n",
      "  RHS range        [1e+00, 1e+00]\n",
      "\n",
      "Warning: Completing partial solution with 104209 unfixed non-continuous variables out of 104709\n",
      "User MIP start produced solution with objective 209 (0.21s)\n",
      "Loaded user MIP start with objective 209\n",
      "\n",
      "Presolve time: 0.55s\n",
      "Presolved: 709 rows, 104709 columns, 209209 nonzeros\n",
      "Variable types: 0 continuous, 104709 integer (104709 binary)\n",
      "\n",
      "Root relaxation: objective 2.051133e+02, 2476 iterations, 0.84 seconds\n",
      "\n",
      "    Nodes    |    Current Node    |     Objective Bounds      |     Work\n",
      " Expl Unexpl |  Obj  Depth IntInf | Incumbent    BestBd   Gap | It/Node Time\n",
      "\n",
      "     0     0  205.11333    0  273  209.00000  205.11333  1.86%     -    6s\n",
      "     0     0  205.11333    0  349  209.00000  205.11333  1.86%     -   19s\n",
      "     0     0  205.11333    0  369  209.00000  205.11333  1.86%     -   31s\n",
      "     0     0  205.11333    0  246  209.00000  205.11333  1.86%     -   36s\n",
      "     0     0  205.11333    0  245  209.00000  205.11333  1.86%     -   38s\n",
      "     0     2  205.11333    0  193  209.00000  205.11333  1.86%     -   57s\n",
      "     5     8  205.11333    2  291  209.00000  205.11333  1.86%  2461   60s\n",
      "    82   151  205.11333   40  280  209.00000  205.11333  1.86%   183   68s\n",
      "   168   230  206.00000   75  263  209.00000  205.11333  1.86%   103   80s\n",
      "H  248   230                     208.0000000  205.11333  1.39%  77.8   80s\n",
      "   249   232  206.00000  111  273  208.00000  205.11333  1.39%  78.0   91s\n",
      "   251   362  206.00000  112  275  208.00000  205.11333  1.39%  77.6   99s\n",
      "   411   477  206.00000  196  274  208.00000  205.11333  1.39%  79.2  104s\n",
      "   480   477 infeasible  180       208.00000  205.11333  1.39%  74.8  105s\n",
      "   540   656  206.00000  265  305  208.00000  205.11333  1.39%  72.3  110s\n",
      "   719   841  206.00000  354  313  208.00000  205.11333  1.39%  61.0  115s\n",
      "   904  1019  206.00000  447  319  208.00000  205.11333  1.39%  54.4  120s\n",
      "  1082  1201  206.00000  535  311  208.00000  205.11333  1.39%  52.5  125s\n",
      "  1264  1384  206.00000  627  317  208.00000  205.11333  1.39%  50.8  130s\n",
      "  1447  1566  206.00000  719  320  208.00000  205.11333  1.39%  48.6  136s\n",
      "  1629  1758  206.00000  811  299  208.00000  205.11333  1.39%  47.2  141s\n",
      "  1821  1959  206.00000  907  309  208.00000  205.11333  1.39%  45.9  147s\n",
      "  2022  1961  206.00000 1008  303  208.00000  205.11333  1.39%  44.4  160s\n",
      "  2024  2171  206.00000 1009  302  208.00000  205.11333  1.39%  44.4  165s\n",
      "  2234  2382  206.00000 1115  301  208.00000  205.11333  1.39%  42.7  171s\n",
      "  2445  2608  206.00000 1221  310  208.00000  205.11333  1.39%  41.8  177s\n",
      "  2671  2841  206.00000 1333  315  208.00000  205.11333  1.39%  41.0  183s\n",
      "  2904  2951  206.00000 1450  303  208.00000  205.11333  1.39%  40.2  200s\n",
      "  3014  2953  206.00000 1505  305  208.00000  205.11333  1.39%  40.1  216s\n",
      "  3016  3219  206.00000 1506  304  208.00000  205.11333  1.39%  40.1  223s\n",
      "  3282  3271  206.00000 1640  295  208.00000  205.11333  1.39%  39.3  232s\n",
      "  3334  3563  206.00000 1651  297  208.00000  205.11333  1.39%  39.3  239s\n",
      "  3627  3564  206.00000 1355  245  208.00000  205.11333  1.39%  38.8  247s\n",
      "  3629  3565  205.11333  187  273  208.00000  205.11333  1.39%  38.7  253s\n",
      "  3630  3566  206.00000  920  237  208.00000  205.11333  1.39%  38.7  387s\n",
      "\n",
      "Cutting planes:\n",
      "  Gomory: 1\n",
      "  Cover: 32\n",
      "  Clique: 12\n",
      "  MIR: 4\n",
      "  StrongCG: 6\n",
      "  Flow cover: 6\n",
      "  Zero half: 2\n",
      "  RLT: 1\n",
      "\n",
      "Explored 3631 nodes (241699 simplex iterations) in 400.05 seconds\n",
      "Thread count was 4 (of 4 available processors)\n",
      "\n",
      "Solution count 2: 208 209 \n",
      "\n",
      "Time limit reached\n",
      "Best objective 2.080000000000e+02, best bound 2.060000000000e+02, gap 0.9615%\n"
     ]
    }
   ],
   "source": [
    "for idx, bpp_data in enumerate(bpp_data_U):\n",
    "    if idx == 7:\n",
    "        c, w = bpp_data['c'], bpp_data['w']\n",
    "        s_0 = heur_FFD(c, w)\n",
    "        n_bins, n_bins_lb, bin_for_item = model_bpp(c, w, s_0[0], s_0[1], LogToConsole=True, TimeLimit=400)"
   ]
  },
  {
   "cell_type": "markdown",
   "metadata": {},
   "source": [
    "### FFD+SA"
   ]
  },
  {
   "cell_type": "markdown",
   "metadata": {},
   "source": [
    "#### Class U"
   ]
  },
  {
   "cell_type": "code",
   "execution_count": 17,
   "metadata": {},
   "outputs": [
    {
     "name": "stdout",
     "output_type": "stream",
     "text": [
      "alpha = 0.95 SAmax = 100 Ti = 100 Tf = 0.1\n",
      "idx lb SA time\n",
      "0 399 401 1551.2771146297455\n",
      "1 397 400 1595.6033930778503\n",
      "2 48 48 23.36166501045227\n",
      "3 50 50 23.082386255264282\n",
      "4 99 100 91.002596616745\n",
      "5 101 101 106.73689842224121\n",
      "6 198 199 380.7764298915863\n",
      "7 206 207 387.8392231464386\n"
     ]
    }
   ],
   "source": [
    "# metaheuristic parameters\n",
    "alpha = 0.95\n",
    "SAmax = 100\n",
    "Ti = 100\n",
    "Tf = 0.1\n",
    "print('alpha =', alpha, 'SAmax =', SAmax, 'Ti =', Ti, 'Tf =', Tf)\n",
    "print('idx', 'lb', 'SA', 'time')\n",
    "for idx, bpp_data in enumerate(bpp_data_U):\n",
    "        c, w = bpp_data['c'], bpp_data['w']\n",
    "        s_0 = heur_FFD(c, w)\n",
    "        t_i = time()\n",
    "        s = SA(alpha, SAmax, Ti, Tf, s_0, w, c)\n",
    "        t_f = time()\n",
    "        print(idx, lb(c,w), s[0], t_f-t_i)"
   ]
  },
  {
   "cell_type": "markdown",
   "metadata": {},
   "source": [
    "#### Class T"
   ]
  },
  {
   "cell_type": "code",
   "execution_count": 14,
   "metadata": {},
   "outputs": [
    {
     "name": "stdout",
     "output_type": "stream",
     "text": [
      "alpha = 0.95 SAmax = 100 Ti = 100 Tf = 0.1\n",
      "idx lb SA time\n",
      "0 40 41 19.570784091949463\n",
      "1 40 41 20.310540914535522\n",
      "2 83 84 79.34288763999939\n",
      "3 83 84 81.95137047767639\n",
      "4 167 168 324.04775381088257\n",
      "5 167 168 292.7296242713928\n",
      "6 20 21 5.309537887573242\n",
      "7 20 21 5.424614667892456\n"
     ]
    }
   ],
   "source": [
    "# metaheuristic parameters\n",
    "alpha = 0.95\n",
    "SAmax = 100\n",
    "Ti = 100\n",
    "Tf = 0.1\n",
    "print('alpha =', alpha, 'SAmax =', SAmax, 'Ti =', Ti, 'Tf =', Tf)\n",
    "print('idx', 'lb', 'SA', 'time')\n",
    "for idx, bpp_data in enumerate(bpp_data_T):\n",
    "        c, w = bpp_data['c'], bpp_data['w']\n",
    "        s_0 = heur_FFD(c, w)\n",
    "        t_i = time()\n",
    "        s = SA(alpha, SAmax, Ti, Tf, s_0, w, c)\n",
    "        t_f = time()\n",
    "        print(idx, lb(c,w), s[0], t_f-t_i)"
   ]
  },
  {
   "cell_type": "markdown",
   "metadata": {},
   "source": [
    "#### Track"
   ]
  },
  {
   "cell_type": "markdown",
   "metadata": {},
   "source": [
    "t249_04"
   ]
  },
  {
   "cell_type": "code",
   "execution_count": 18,
   "metadata": {},
   "outputs": [
    {
     "name": "stdout",
     "output_type": "stream",
     "text": [
      "0.97 94\n",
      "2.41 93\n",
      "2.59 92\n",
      "2.95 91\n",
      "4.74 90\n",
      "5.35 89\n",
      "5.7 88\n",
      "7.62 87\n",
      "11.32 86\n",
      "12.64 85\n",
      "19.77 84\n",
      "74.96133089065552 84\n"
     ]
    }
   ],
   "source": [
    "# metaheuristic parameters\n",
    "alpha = 0.95\n",
    "SAmax = 100\n",
    "Ti = 100\n",
    "Tf = 0.1\n",
    "for idx, bpp_data in enumerate(bpp_data_T):\n",
    "    if idx == 3:\n",
    "        c, w = bpp_data['c'], bpp_data['w']\n",
    "        s_0 = heur_FFD(c, w)\n",
    "        t_i = time()\n",
    "        s = SA_log(alpha, SAmax, Ti, Tf, s_0, w, c, t_i)\n",
    "        t_f = time()\n",
    "        print(t_f-t_i, s[0])"
   ]
  },
  {
   "cell_type": "markdown",
   "metadata": {},
   "source": [
    "u_500_04"
   ]
  },
  {
   "cell_type": "code",
   "execution_count": 19,
   "metadata": {},
   "outputs": [
    {
     "name": "stdout",
     "output_type": "stream",
     "text": [
      "146.19 208\n",
      "181.65 207\n",
      "369.48 206\n",
      "371.69 206\n"
     ]
    }
   ],
   "source": [
    "# metaheuristic parameters\n",
    "alpha = 0.95\n",
    "SAmax = 100\n",
    "Ti = 100\n",
    "Tf = 0.1\n",
    "for idx, bpp_data in enumerate(bpp_data_U):\n",
    "    if idx == 7:\n",
    "        c, w = bpp_data['c'], bpp_data['w']\n",
    "        s_0 = heur_FFD(c, w)\n",
    "        t_i = time()\n",
    "        s = SA_log(alpha, SAmax, Ti, Tf, s_0, w, c, t_i)\n",
    "        t_f = time()\n",
    "        print(round(t_f-t_i,2), s[0])"
   ]
  }
 ],
 "metadata": {
  "kernelspec": {
   "display_name": "Python 3",
   "language": "python",
   "name": "python3"
  },
  "language_info": {
   "codemirror_mode": {
    "name": "ipython",
    "version": 3
   },
   "file_extension": ".py",
   "mimetype": "text/x-python",
   "name": "python",
   "nbconvert_exporter": "python",
   "pygments_lexer": "ipython3",
   "version": "3.8.5"
  }
 },
 "nbformat": 4,
 "nbformat_minor": 4
}
